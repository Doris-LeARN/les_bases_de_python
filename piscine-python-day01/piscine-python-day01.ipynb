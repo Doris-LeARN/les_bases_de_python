{
 "cells": [
  {
   "cell_type": "markdown",
   "id": "36560c30",
   "metadata": {},
   "source": [
    "EXERCISE 01\n",
    "Make a function “double_return”.\n",
    "\n",
    "It takes a Dictionary as parameter, and returns two lists. Those returned Lists must contains different values. In the first one, there is the list of the keys and the second the list of the values contained in the Dictionary parameter.\n",
    "\n",
    "For example double_return({“a”: 1, “b”: 2})) returns\n",
    "([‘a’, ‘b’], [1, 2])"
   ]
  },
  {
   "cell_type": "code",
   "execution_count": 14,
   "id": "e5a7d091",
   "metadata": {},
   "outputs": [
    {
     "data": {
      "text/plain": [
       "(['a', 'b'], [1, 2])"
      ]
     },
     "execution_count": 14,
     "metadata": {},
     "output_type": "execute_result"
    }
   ],
   "source": [
    "def double_return(dict):\n",
    "    cle = []\n",
    "    valeur = []\n",
    "    for key in dict.keys():\n",
    "        cle.append(key)\n",
    "    for val in dict.values():\n",
    "        valeur.append(val)\n",
    "    return (cle,valeur)\n",
    "\n",
    "dict = {\"a\": 1, \"b\": 2}\n",
    "double_return(dict)"
   ]
  },
  {
   "cell_type": "markdown",
   "id": "2f50ee28",
   "metadata": {},
   "source": [
    "EXERCISE 02\n",
    "Create a function “display_all”. It takes a Dictionary as parameters and display every elements of the Dictionary, formated as:\n",
    "\n",
    "“(class: value)” followed by a new line\n",
    "\n",
    "• “[class]”: must be the class of the element.\n",
    "\n",
    "• “[value]”: its value converted into a String\n",
    "\n",
    "For example display_all({“test”: “hello”, “t”: 43, “pi”: 3.14}) return\n",
    "(str: hello)\n",
    "(int: 43)\n",
    "(float: 3.14)"
   ]
  },
  {
   "cell_type": "code",
   "execution_count": 47,
   "id": "4c5c20a0",
   "metadata": {
    "scrolled": true
   },
   "outputs": [
    {
     "name": "stdout",
     "output_type": "stream",
     "text": [
      "(str: hello)\n",
      "(int: 43)\n",
      "(float: 3.14)\n"
     ]
    }
   ],
   "source": [
    "def display_all(dict):\n",
    "    for key,val in dict.items():\n",
    "        print (f\"({type(val).__name__}: {str(val)})\")\n",
    "    \n",
    "dict = {\"test\": \"hello\", \"t\": 43, \"pi\": 3.14}\n",
    "display_all(dict)"
   ]
  },
  {
   "cell_type": "markdown",
   "id": "a45cbec6",
   "metadata": {},
   "source": [
    "EXERCISE 03\n",
    "Create a function “display_all”.\n",
    "\n",
    "It takes a Dictionary as parameter and display every element of the Dictionary formated as:\n",
    "\n",
    "“key->(class: value)” followed by a new line\n",
    "\n",
    "For example : display_all({“test”: “hello”, “t”: 43, “pi”: 3.14}) returns\n",
    "test->(str: hello)\n",
    "t->(int: 43)\n",
    "pi->(float: 3.14)"
   ]
  },
  {
   "cell_type": "code",
   "execution_count": 48,
   "id": "68422215",
   "metadata": {},
   "outputs": [
    {
     "name": "stdout",
     "output_type": "stream",
     "text": [
      "test->(str: hello)\n",
      "t->(int: 43)\n",
      "pi->(float: 3.14)\n"
     ]
    }
   ],
   "source": [
    "def display_all(dict):\n",
    "    for key,val in dict.items():\n",
    "        print (f\"{str(key)}->({type(val).__name__}: {str(val)})\")\n",
    "    \n",
    "dict = {\"test\": \"hello\", \"t\": 43, \"pi\": 3.14}\n",
    "display_all(dict)"
   ]
  },
  {
   "cell_type": "markdown",
   "id": "e2098b39",
   "metadata": {},
   "source": [
    "EXERCISE 04\n",
    "Create a function “display_all”.\n",
    "\n",
    "It takes a Dictionary as parameter and displays every element of the Dictionary formated as:\n",
    "\n",
    "“id->(class: value)” followed by a new line\n",
    "\n",
    "“id” is the index, from 0 to the dictionary’s length.\n",
    "\n",
    "Note: “=” is forbidden only for assignations, not for default parameters. Same rule for every following exercise. thismeans you cannot create or change values of variables/arguments\n",
    "\n",
    "For example : display_all({“test”: “hello”, “t”: 43, “pi”: 3.14}) re\n",
    "0->(str: hello)\n",
    "1->(int: 43)\n",
    "2->(float: 3.14)"
   ]
  },
  {
   "cell_type": "code",
   "execution_count": 65,
   "id": "054a440a",
   "metadata": {},
   "outputs": [
    {
     "name": "stdout",
     "output_type": "stream",
     "text": [
      "0->(str: hello)\n",
      "1->(int: 43)\n",
      "2->(float: 3.14)\n"
     ]
    }
   ],
   "source": [
    "def display_all(dict):\n",
    "    for i,(key,val) in enumerate(dict.items()):\n",
    "        print (f\"{int(i)}->({type(val).__name__}: {str(val)})\")\n",
    "    \n",
    "dict = {\"test\": \"hello\", \"t\": 43, \"pi\": 3.14}\n",
    "display_all(dict)"
   ]
  },
  {
   "cell_type": "markdown",
   "id": "7e10e7fe",
   "metadata": {},
   "source": [
    "EXERCISE 5\n",
    "Mandatory: Use python’s list/dict comprehension capacities\n",
    "\n",
    "Create a function “my_count_words” which takes a list as parameter and returns a dictionnary.\n",
    "The List passed as argument is filled with strings.\n",
    "The returned dictionnary must be formated to respect the following rules:\n",
    "• Every key is a string.\n",
    "• Every value is an integer.\n",
    "• The associated value is the count of occurrences of the key in the dictionary parameter."
   ]
  },
  {
   "cell_type": "code",
   "execution_count": 69,
   "id": "937888a0",
   "metadata": {},
   "outputs": [
    {
     "data": {
      "text/plain": [
       "{'18': 3, '15': 2, '13': 1, '20': 1, 'Jospine': 1, 'Doris': 1}"
      ]
     },
     "execution_count": 69,
     "metadata": {},
     "output_type": "execute_result"
    }
   ],
   "source": [
    "def my_count_words(liste):\n",
    "    word_count = {}\n",
    "    for word in liste:\n",
    "        key = str(word)\n",
    "        if key in word_count:\n",
    "            word_count[key] += 1\n",
    "        else:\n",
    "            word_count[key] = 1\n",
    "    return word_count\n",
    "\n",
    "\n",
    "liste = [18, 15, 13, 20, \"Jospine\", 15, 18, 18, \"Doris\"]\n",
    "my_count_words(liste)"
   ]
  },
  {
   "cell_type": "markdown",
   "id": "8f71e11b",
   "metadata": {},
   "source": [
    "EXERCISE 6\n",
    "Mandatory: Use reduce from functools\n",
    "Create a python script which will add or subtract the values passed as arguments and based on 3 simple rules:\n",
    "• If there is no arguments, then display 0.\n",
    "• Else, the first value to use is the first argument.\n",
    "• For each next argument, if the current value is odd, then add the next argument to the current value,\n",
    "else subtract it."
   ]
  },
  {
   "cell_type": "code",
   "execution_count": null,
   "id": "96fe2e78",
   "metadata": {},
   "outputs": [],
   "source": []
  }
 ],
 "metadata": {
  "kernelspec": {
   "display_name": "Python 3 (ipykernel)",
   "language": "python",
   "name": "python3"
  },
  "language_info": {
   "codemirror_mode": {
    "name": "ipython",
    "version": 3
   },
   "file_extension": ".py",
   "mimetype": "text/x-python",
   "name": "python",
   "nbconvert_exporter": "python",
   "pygments_lexer": "ipython3",
   "version": "3.11.5"
  }
 },
 "nbformat": 4,
 "nbformat_minor": 5
}
