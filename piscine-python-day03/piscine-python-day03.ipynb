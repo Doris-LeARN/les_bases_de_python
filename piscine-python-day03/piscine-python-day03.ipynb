{
 "cells": [
  {
   "cell_type": "markdown",
   "id": "cd9bb723",
   "metadata": {},
   "source": [
    "## Exercice 1\n",
    "\n",
    "Have the function **MathChallenge** take the num parameter being passed and return the next number greater than num using the same digits. \n",
    "For example if num is 123 return 132 , if it's 12453 return 12534 . If a number has no gratter permutations, return - 1 ( ie. 999)"
   ]
  },
  {
   "cell_type": "code",
   "execution_count": 92,
   "id": "6accaf7b",
   "metadata": {},
   "outputs": [
    {
     "name": "stdout",
     "output_type": "stream",
     "text": [
      "12534\n",
      "132\n",
      "-1\n"
     ]
    }
   ],
   "source": [
    "def MathChallenge(num):\n",
    "    \n",
    "    liste = list(str(num))\n",
    "    \n",
    "    taille_liste = len(liste)\n",
    "    \n",
    "    permutations = [int(''.join(liste))]\n",
    "    \n",
    "    for i in range(taille_liste - 1):\n",
    "        \n",
    "        for j in range(len(permutations)):\n",
    "            \n",
    "            copy_liste = liste[:]\n",
    "            \n",
    "            for k in range(taille_liste - i - 1):\n",
    "                \n",
    "                copy_liste.append(copy_liste.pop(i))\n",
    "                \n",
    "                permutation = int(''.join(copy_liste))\n",
    "                \n",
    "                if permutation not in permutations:\n",
    "                    \n",
    "                    permutations.append(permutation)\n",
    "    \n",
    "    \n",
    "    permutations_sup = [p for p in permutations if p > int(''.join(liste))]\n",
    "    \n",
    "    \n",
    "    if permutations_sup:\n",
    "        \n",
    "        print(min(permutations_sup))\n",
    "    \n",
    "    else:\n",
    "        \n",
    "        print(f\"{-1}\") \n",
    "\n",
    "MathChallenge(12453)\n",
    "MathChallenge(123)\n",
    "MathChallenge(999)\n",
    "\n"
   ]
  },
  {
   "cell_type": "markdown",
   "id": "33ab501f",
   "metadata": {},
   "source": [
    "## Exercice 2\n",
    "A-\n",
    "The Caesar cipher is a encryption technique that involves shifting each letter by a certain number of positions in the alphabet.\n",
    "For example, with a shift of 3 , \"A\" becomes \"D\" , \"B\" becomes \"E\" , and so on.\n",
    "\n",
    "Write a Python function **encrypt_message** that takes an input string and a shift, then encrypts the text using the Caesar cipher. Ensure that the function preserves uppercase and lowercase letters and does not modify characters that are not letters \n",
    "\n",
    "\n",
    "B-\n",
    "\n",
    " Now that you have a Caesar cipher encryption function, the exercice is to write a function to decrypt a message that was encrypted using the  Caesar cipher .\n",
    "\n",
    "Write a Python function **decrypt_message** that takes encrypted text and shifts it to decrypt it using Caesar cipher. Make sure the function works with the same shift that was used for encryption."
   ]
  },
  {
   "cell_type": "code",
   "execution_count": 23,
   "id": "0d6460c1",
   "metadata": {},
   "outputs": [
    {
     "name": "stdout",
     "output_type": "stream",
     "text": [
      " Jospine becomes Mrvslqh\n",
      " A becomes D\n"
     ]
    }
   ],
   "source": [
    "# Je vais utiliser les codes ASCII en partant de A = 65 et a = 97\n",
    "\n",
    "# A-\n",
    "\n",
    "def encrypt_message(msg, shift) :\n",
    "    \n",
    "    message_encrypted = \"\"\n",
    "    \n",
    "    for word in msg :\n",
    "        \n",
    "        if word.isupper() :\n",
    "            \n",
    "            # je réinitialise les lettres pour qu'elle commence avec une valeur de 0 ainsi A=0\n",
    "            word_encrypt = int(ord(word)) - 65 \n",
    "            \n",
    "            # je fais la somme avec shift \n",
    "            word_encrypt += int(shift) \n",
    "            \n",
    "            # Il y a 26 lettres dans l'alphabet donc je vais prendre le reste de la division\n",
    "            word_encrypt %= 26\n",
    "            \n",
    "            # je ramene le resultat en code ASCII en faisant +65 et convertissant en caractere\n",
    "            word_encrypt = chr(word_encrypt + 65) \n",
    "            \n",
    "        elif word.islower() :\n",
    "            \n",
    "            # je réinitialise les lettres pour qu'elle commence avec une valeur de 0 ainsi A=0\n",
    "            word_encrypt = int(ord(word)) - 97 \n",
    "            \n",
    "            # je fais la somme avec shift \n",
    "            word_encrypt += int(shift) \n",
    "            \n",
    "            # Il y a 26 lettres dans l'alphabet donc je vais prendre le reste de la division\n",
    "            word_encrypt %= 26\n",
    "            \n",
    "            # je ramene le resultat en code ASCII en faisant +65\n",
    "            word_encrypt = chr(word_encrypt + 97) \n",
    "            \n",
    "        else :\n",
    "            word_encrypt = word\n",
    "        \n",
    "        message_encrypted += word_encrypt\n",
    "        \n",
    "        \n",
    "    print(f\" {str(msg)} becomes {str(message_encrypted)}\")\n",
    "    \n",
    "\n",
    "encrypt_message(\"Jospine\", 3)\n",
    "encrypt_message(\"A\", 3)\n",
    "            "
   ]
  },
  {
   "cell_type": "code",
   "execution_count": 108,
   "id": "8f88fed0",
   "metadata": {},
   "outputs": [
    {
     "data": {
      "text/plain": [
       "'A'"
      ]
     },
     "execution_count": 108,
     "metadata": {},
     "output_type": "execute_result"
    }
   ],
   "source": [
    "def decrypt_message(msg, shift) :\n",
    "    \n",
    "    message_decrypted = \"\"\n",
    "    \n",
    "    for word in msg :\n",
    "        \n",
    "        if word.isupper() :\n",
    "            \n",
    "            # je réinitialise les lettres pour qu'elle commence avec une valeur de 0 ainsi A=0\n",
    "            word_decrypt = int(ord(word)) - 65 \n",
    "            \n",
    "            # je fais la difference avec shift \n",
    "            word_decrypt -= int(shift) \n",
    "            \n",
    "            # Il y a 26 lettres dans l'alphabet donc je vais prendre le reste de la division\n",
    "            word_decrypt %= 26\n",
    "            \n",
    "            # je ramene le resultat en code ASCII en faisant +65 et convertissant en caractere\n",
    "            word_decrypt = chr(word_decrypt + 65) \n",
    "            \n",
    "        elif word.islower() :\n",
    "            \n",
    "            # je réinitialise les lettres pour qu'elle commence avec une valeur de 0 ainsi A=0\n",
    "            word_decrypt = int(ord(word)) - 97 \n",
    "            \n",
    "            # je fais la difference avec shift \n",
    "            word_decrypt -= int(shift) \n",
    "            \n",
    "            # Il y a 26 lettres dans l'alphabet donc je vais prendre le reste de la division\n",
    "            word_decrypt %= 26\n",
    "            \n",
    "            # je ramene le resultat en code ASCII en faisant +65\n",
    "            word_decrypt = chr(word_decrypt + 97) \n",
    "            \n",
    "        else :\n",
    "            word_decrypt = word\n",
    "        \n",
    "        message_decrypted += word_decrypt\n",
    "        \n",
    "        \n",
    "    return message_decrypted\n",
    "    \n",
    "    \n",
    "\n",
    "decrypt_message(\"Mrvslqh\", 3)\n",
    "decrypt_message(\"D\", 3)"
   ]
  },
  {
   "cell_type": "markdown",
   "id": "8e26190a",
   "metadata": {},
   "source": [
    "## Exercice 3\n",
    " \n",
    "Justin Bieber has been kidnapped by a gang and hidden. Just before the police could raid the gang's hideout, they intercepted a coded text message from a phone in the hideout. The only evidence found was a partially burnt piece of paper with letters on it. The gang is known for using Caesar ciphers with a positive shift to encrypt messages . You believe that the paper had an original message written on it. The police can't decode it and need your help to crack the code and save Justin.. You know the code for  encrypting a Caesar cipher ( encrypt_message) , but you don't know the offset (shift) they used.\n",
    "\n",
    "intercepted_msg = \"Yn cbyvpr neevir . Ba fr pnffr rg ba erge bhir nh pnzchf q'Nobzrl-Pnyniv, Wneqva H qnaf 30zva .\"\n",
    "\n",
    "fragment = \"rive\"\n",
    "\n",
    "Find the encrypted message to save Justin Bieber!"
   ]
  },
  {
   "cell_type": "code",
   "execution_count": 109,
   "id": "884763b9",
   "metadata": {},
   "outputs": [
    {
     "data": {
      "text/plain": [
       "\"La police arrive . On se casse et on retr ouve au campus d'Abomey-Calavi, Jardin U dans 30min .\""
      ]
     },
     "execution_count": 109,
     "metadata": {},
     "output_type": "execute_result"
    }
   ],
   "source": [
    "def find_shift(fragment):\n",
    "    \n",
    "    word_frequency = {}\n",
    "    \n",
    "    for word in fragment :\n",
    "        \n",
    "        if word.isalpha() :\n",
    "            \n",
    "            word = word.lower() \n",
    "            \n",
    "            word_frequency[word] = word_frequency.get(word, 0) + 1\n",
    "            \n",
    "    max_word_frequency = max(word_frequency, key = word_frequency.get)\n",
    "    \n",
    "    shift = int(ord(max_word_frequency) - ord('e')) % 26\n",
    "    \n",
    "    return shift\n",
    "\n",
    "\n",
    "intercepted_msg = \"Yn cbyvpr neevir . Ba fr pnffr rg ba erge bhir nh pnzchf q'Nobzrl-Pnyniv, Wneqva H qnaf 30zva .\"\n",
    "\n",
    "fragment = \"rive\"\n",
    "\n",
    "shift = find_shift(fragment)\n",
    "\n",
    "decrypt_message(intercepted_msg, shift) "
   ]
  },
  {
   "cell_type": "markdown",
   "id": "31285fdc",
   "metadata": {},
   "source": [
    "##  Exercice 4\n",
    "\n",
    "1-\n",
    "Write a function named **capital_indexes** . The function takes s single parameter , which is a string. Your function should return a list of all the indexes in the string that have capital letters.\n",
    "\n",
    "For example, calling capital_indexes(\"HeLlO\") should return the list [0,2,4]\n",
    "\n",
    "2-\n",
    " Write a function that takes a list of lists and flattens it into a one-dimensional list.\n",
    " Name your function **flatten**. It should take a single parameter and return a list \n",
    " \n",
    " For example, calling flatten([[1,2],[3,4]]) should return the list  [1,2,3,4]\n",
    " \n"
   ]
  },
  {
   "cell_type": "code",
   "execution_count": 111,
   "id": "358a333a",
   "metadata": {},
   "outputs": [
    {
     "data": {
      "text/plain": [
       "[0, 2, 4]"
      ]
     },
     "execution_count": 111,
     "metadata": {},
     "output_type": "execute_result"
    }
   ],
   "source": [
    "def capital_indexes(s):\n",
    "    \n",
    "    liste_index = []\n",
    "    \n",
    "    for i in range(len(s)):\n",
    "        \n",
    "        if s[i].isupper() :\n",
    "            \n",
    "            liste_index.append(s.index(s[i]))\n",
    "    \n",
    "    return liste_index\n",
    "    \n",
    "\n",
    "capital_indexes(\"HeLlO\")"
   ]
  },
  {
   "cell_type": "code",
   "execution_count": 118,
   "id": "b3ac6bd8",
   "metadata": {},
   "outputs": [
    {
     "data": {
      "text/plain": [
       "[1, 2, 3, 4]"
      ]
     },
     "execution_count": 118,
     "metadata": {},
     "output_type": "execute_result"
    }
   ],
   "source": [
    "def flatten(listes) :\n",
    "    \n",
    "    return [item for liste in listes for item in liste]\n",
    "\n",
    "flatten([[1,2],[3,4]])  "
   ]
  },
  {
   "cell_type": "markdown",
   "id": "e2de933a",
   "metadata": {},
   "source": [
    "## Exercie  5 \n",
    "\n",
    "1-\n",
    "Write a function **decompose** that , given n and N satisfying 0< N < 2^n, returns a list of length n representing the binary representation ( with n digits ) of the integer N .\n",
    "\n",
    "For example decompose(5,13) should return [1,0,1,1,0]\n",
    "\n",
    "Note: it is recommended to determine the least significant bit first , then the second, and so on,iterating n times using Euclidean division by 2.\n",
    "\n",
    "2-\n",
    "\n",
    "Write a function **part** that , given a list L= [x0,x1,.....,xn-1] , of length n , returns the sorted list of indices i such that L[i]=1 .\n",
    "\n",
    "For example part([1,0,1,1,0]) returns [0,2,3]\n",
    "\n",
    "Mandatory : use the list comprehension\n",
    "\n",
    "\n",
    "3-\n",
    "\n",
    "From this, deduce a function **enumeration** that, given an integer n successively prints all the subsets of {0,1,2,...,n-1} . We will print the subsets in such a way that they appear in the natural order corresponding to the value of N . \n",
    "\n",
    "For example enumerationt(3)  prints successively [],[0],[1],[0,1],[2],[0,2],[1,2],[0,1,2]\n",
    "\n",
    "This function should generate and print all the subsets of the set {0,1,2,.....,n-1} in a specific order\n",
    "\n",
    "\n",
    "\n",
    "4-\n",
    "\n",
    "For any non-null list L = [x0, x1, ..., xn-1], we define integers r and s as follows:\n",
    "\n",
    "-r is the minimum index i in {0,1,2, ..., n-1} such that xi = 1.\n",
    "\n",
    "-s is the largest integer (between r + 1 and n) such that for all i in [r, s - 1], xi = 1.\n",
    "\n",
    "For example, for L = [0, 1, 1, 1, 0, 1, 1, 0, 1, 0], we have r = 1 and s = 4 because (x1, x2, x3) is the first (maximal) sequence of consecutive digits 1 contained in the list L.\n",
    "If the list L is [0, 0, 1, 1, 1], we have r = 2 and s = 5.\n",
    "\n",
    "Write a function **sequence(L)** that, given such a non-null list L, returns the pair (r, s).\n",
    "\n",
    "\n",
    "5-\n",
    "\n",
    "Let's consider a non-empty list L = [x0, x1, ..., xn] such that we have defined integers r and s as in question 4. We assume s < n. In L, we perform the following transformation, consisting of the following successive operations:\n",
    "\n",
    "-We set all the terms in the sequence (xr, xr+1, ..., xs-1) to 0.\n",
    "\n",
    "-We change xs to 1 (note that we assumed s < n).\n",
    "\n",
    "-We change all the terms in the sequence (x0, x1, ..., xs-r-2) to 1.\n",
    "\n",
    "For example, if L = [0, 0, 1, 1, 1, 0, 1, 1, 0, 1, 0], we transform L into [1, 1, 0, 0, 0, **1**, 1, 1, 0, 1, 0]. In other words, we move the last digit 1 of the sequence to the right by one position (as highlighted in the example), and we move the preceding digit 1s as far to the left as possible. This way, the count of digit 1s remains unchanged.\n",
    "\n",
    "Write a function **successor(L)** that, given a list L satisfying s < n, modifies L according to the transformation defined above.\n",
    "\n",
    "\n",
    "6-\n",
    "\n",
    "Let p be a natural number such that 0 < p ≤ n. Consider the list L = [1, 1, ..., 1, 0, 0, 0, ..., 0] of length n, containing exactly p digits 1 followed by zeros. It can be shown (assumed here) that the successors of L (according to the procedure in 5)) describe, in natural order, the binary representations of all subsets of size p.\n",
    "\n",
    "Write a function **generation(n, p, k)** that, given integers satisfying 0 < p < n and an integer k satisfying 1 ≤ k ≤ C(n, p), returns the k-th subset of size p from the set {0, 1, 2, ..., n-1}.\n",
    "\n",
    "For example, generation(5, 3, 1) returns [0, 1, 2] and generation(5, 3, 2) returns [0, 1, 3]."
   ]
  },
  {
   "cell_type": "code",
   "execution_count": null,
   "id": "74b8d115",
   "metadata": {},
   "outputs": [],
   "source": []
  },
  {
   "cell_type": "code",
   "execution_count": null,
   "id": "a68f6396",
   "metadata": {},
   "outputs": [],
   "source": []
  },
  {
   "cell_type": "code",
   "execution_count": null,
   "id": "25aa9d4d",
   "metadata": {},
   "outputs": [],
   "source": []
  }
 ],
 "metadata": {
  "kernelspec": {
   "display_name": "Python 3 (ipykernel)",
   "language": "python",
   "name": "python3"
  },
  "language_info": {
   "codemirror_mode": {
    "name": "ipython",
    "version": 3
   },
   "file_extension": ".py",
   "mimetype": "text/x-python",
   "name": "python",
   "nbconvert_exporter": "python",
   "pygments_lexer": "ipython3",
   "version": "3.11.5"
  }
 },
 "nbformat": 4,
 "nbformat_minor": 5
}
